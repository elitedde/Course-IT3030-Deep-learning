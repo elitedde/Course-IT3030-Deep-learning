{
 "cells": [
  {
   "cell_type": "code",
   "execution_count": 2,
   "metadata": {
    "executionInfo": {
     "elapsed": 3955,
     "status": "ok",
     "timestamp": 1651652175814,
     "user": {
      "displayName": "eli tedde",
      "userId": "06887910645072935678"
     },
     "user_tz": -120
    },
    "id": "L5XXWDikdNUT"
   },
   "outputs": [],
   "source": [
    "import numpy as np\n",
    "import pandas as pd\n",
    "import warnings\n",
    "import tensorflow as tf \n",
    "warnings.filterwarnings('ignore')\n",
    "import matplotlib.pyplot as plt\n",
    "import seaborn as sns\n",
    "import keras\n",
    "from keras.models import Sequential\n",
    "from keras.layers import Dense\n",
    "from keras.layers import LSTM, GRU\n",
    "from keras.layers import Dropout\n",
    "from keras.layers import *\n",
    "from sklearn.preprocessing import MinMaxScaler\n",
    "from sklearn.metrics import mean_squared_error\n",
    "from sklearn.metrics import mean_absolute_error\n",
    "from keras.callbacks import EarlyStopping\n",
    "from google.colab import drive\n",
    "import sklearn\n",
    "from sklearn import preprocessing\n",
    "from matplotlib.pyplot import figure\n",
    "sns.set_style(\"whitegrid\")\n",
    "sns.set_palette(\"colorblind\")"
   ]
  },
  {
   "cell_type": "code",
   "execution_count": 3,
   "metadata": {
    "colab": {
     "base_uri": "https://localhost:8080/"
    },
    "executionInfo": {
     "elapsed": 10031,
     "status": "ok",
     "timestamp": 1651652185839,
     "user": {
      "displayName": "eli tedde",
      "userId": "06887910645072935678"
     },
     "user_tz": -120
    },
    "id": "iKMr33SSXY1L",
    "outputId": "6b7ec727-ee25-4db7-a683-9609c1140be2"
   },
   "outputs": [
    {
     "name": "stdout",
     "output_type": "stream",
     "text": [
      "Drive already mounted at /content/drive; to attempt to forcibly remount, call drive.mount(\"/content/drive\", force_remount=True).\n"
     ]
    }
   ],
   "source": [
    "drive.mount('/content/drive')"
   ]
  },
  {
   "cell_type": "code",
   "execution_count": 4,
   "metadata": {
    "executionInfo": {
     "elapsed": 2101,
     "status": "ok",
     "timestamp": 1651652189200,
     "user": {
      "displayName": "eli tedde",
      "userId": "06887910645072935678"
     },
     "user_tz": -120
    },
    "id": "ajDGBB7KdWUQ"
   },
   "outputs": [],
   "source": [
    "train = pd.read_csv('drive/MyDrive/project3/new_train_altered.csv')\n",
    "val = pd.read_csv('drive/MyDrive/project3/new_val_altered.csv')\n",
    "del train[\"Unnamed: 0\"]\n",
    "del val[\"Unnamed: 0\"]"
   ]
  },
  {
   "cell_type": "code",
   "execution_count": 5,
   "metadata": {
    "executionInfo": {
     "elapsed": 3,
     "status": "ok",
     "timestamp": 1651652190447,
     "user": {
      "displayName": "eli tedde",
      "userId": "06887910645072935678"
     },
     "user_tz": -120
    },
    "id": "Jt5J6Yw60Gaa"
   },
   "outputs": [],
   "source": [
    "ALTERED = True"
   ]
  },
  {
   "cell_type": "code",
   "execution_count": 6,
   "metadata": {
    "executionInfo": {
     "elapsed": 342,
     "status": "ok",
     "timestamp": 1651652192640,
     "user": {
      "displayName": "eli tedde",
      "userId": "06887910645072935678"
     },
     "user_tz": -120
    },
    "id": "DuqXP4qwXf1D"
   },
   "outputs": [],
   "source": [
    "train = train[['sys_reg', 'hydro', 'micro', 'thermal', 'wind', 'flow',  'struct_imb',\n",
    "       'y_lagged2', 'y_lagged3', 'mean_imbalance_12','imb_3d_bef',\n",
    "       'mean_imbalance_24', 'mean_imbalance_48', 'altered_shift', 'y_lagged1', 'altered', 'y']]\n",
    "val = val[['sys_reg', 'hydro', 'micro', 'thermal', 'wind', 'flow', 'struct_imb', \n",
    "       'y_lagged2', 'y_lagged3', 'mean_imbalance_12','imb_3d_bef',\n",
    "       'mean_imbalance_24', 'mean_imbalance_48', 'altered_shift', 'y_lagged1', 'altered', 'y']]"
   ]
  },
  {
   "cell_type": "markdown",
   "metadata": {
    "id": "I1BcqzBWzsTp"
   },
   "source": [
    "**Normal task or altered task**"
   ]
  },
  {
   "cell_type": "code",
   "execution_count": 7,
   "metadata": {
    "executionInfo": {
     "elapsed": 3,
     "status": "ok",
     "timestamp": 1651652193414,
     "user": {
      "displayName": "eli tedde",
      "userId": "06887910645072935678"
     },
     "user_tz": -120
    },
    "id": "ckBkOQ494Aum"
   },
   "outputs": [],
   "source": [
    "if ALTERED is False:\n",
    "  del train['altered_shift']\n",
    "  del val['altered_shift']\n",
    "  del train['altered']\n",
    "  del val['altered']\n",
    "  del train['struct_imb']\n",
    "  del val['struct_imb']\n",
    "  del train['mean_imbalance_12']\n",
    "  del val['mean_imbalance_12']\n",
    "else:\n",
    "  del train['y']\n",
    "  del val['y']\n",
    "  del train['y_lagged1']\n",
    "  del val['y_lagged1']\n",
    "  del train['y_lagged2']\n",
    "  del val['y_lagged2']\n",
    "  del train['y_lagged3']\n",
    "  del val['y_lagged3']\n",
    "  train.rename(columns = {'altered':'y'}, inplace = True)\n",
    "  val.rename(columns = {'altered':'y'}, inplace = True)"
   ]
  },
  {
   "cell_type": "code",
   "execution_count": 8,
   "metadata": {
    "colab": {
     "base_uri": "https://localhost:8080/"
    },
    "executionInfo": {
     "elapsed": 559,
     "status": "ok",
     "timestamp": 1651652198003,
     "user": {
      "displayName": "eli tedde",
      "userId": "06887910645072935678"
     },
     "user_tz": -120
    },
    "id": "KkEleacA3AHx",
    "outputId": "69728cd1-fb24-4bf3-f64d-1667801104c1"
   },
   "outputs": [
    {
     "data": {
      "text/plain": [
       "Index(['sys_reg', 'hydro', 'micro', 'thermal', 'wind', 'flow', 'struct_imb',\n",
       "       'mean_imbalance_12', 'imb_3d_bef', 'mean_imbalance_24',\n",
       "       'mean_imbalance_48', 'altered_shift', 'y'],\n",
       "      dtype='object')"
      ]
     },
     "execution_count": 8,
     "metadata": {},
     "output_type": "execute_result"
    }
   ],
   "source": [
    "train.columns"
   ]
  },
  {
   "cell_type": "markdown",
   "metadata": {
    "id": "p_mVfZI3CHVf"
   },
   "source": [
    "**NORMALIZATION**"
   ]
  },
  {
   "cell_type": "code",
   "execution_count": 9,
   "metadata": {
    "executionInfo": {
     "elapsed": 5,
     "status": "ok",
     "timestamp": 1651652200440,
     "user": {
      "displayName": "eli tedde",
      "userId": "06887910645072935678"
     },
     "user_tz": -120
    },
    "id": "jbtnQoZSKAit"
   },
   "outputs": [],
   "source": [
    "scaler = sklearn.preprocessing.MinMaxScaler(feature_range=(0, 1))\n",
    "y_scaler = sklearn.preprocessing.MinMaxScaler(feature_range=(0, 1))\n",
    "y_train = y_scaler.fit_transform(train[['y']])\n",
    "y_val = y_scaler.fit_transform(val[['y']])\n",
    "train = scaler.fit_transform(train.values)\n",
    "val = scaler.fit_transform(val.values)"
   ]
  },
  {
   "cell_type": "markdown",
   "metadata": {
    "id": "-vBqEiRPCdzA"
   },
   "source": [
    "**TRAINING - VALIDATION - TEST SET**"
   ]
  },
  {
   "cell_type": "code",
   "execution_count": 10,
   "metadata": {
    "colab": {
     "base_uri": "https://localhost:8080/"
    },
    "executionInfo": {
     "elapsed": 5,
     "status": "ok",
     "timestamp": 1651652201837,
     "user": {
      "displayName": "eli tedde",
      "userId": "06887910645072935678"
     },
     "user_tz": -120
    },
    "id": "9uJHJfWfyapD",
    "outputId": "8cdee596-9ea3-48ab-d37e-66d251b2ddd8"
   },
   "outputs": [
    {
     "name": "stdout",
     "output_type": "stream",
     "text": [
      "(74739, 12) (74739,) (50, 12) (50,)\n",
      "(9038, 12) (9038,)\n",
      "(120, 12)\n"
     ]
    }
   ],
   "source": [
    "#I want to predict 8 future values\n",
    "past_history = 120\n",
    "to_predict = 50\n",
    "# n_values = val.shape[0]-past_history #24 values in the future\n",
    "\n",
    "future_values = val.shape[0]-to_predict\n",
    "window = val.shape[0] - to_predict - past_history\n",
    "test = val[future_values:, :]\n",
    "window = val[window : future_values, :]\n",
    "val = val[:future_values, :]\n",
    "window, window_y = window[:, :-1], window[:, -1]\n",
    "train_X, train_y = train[:, :-1], train[:, -1]\n",
    "test_X, test_y = test[:, :-1], test[:, -1]\n",
    "val_X, val_y = val[:, :-1], val[:, -1]\n",
    "print(train_X.shape, train_y.shape, test_X.shape, test_y.shape) \n",
    "print(val_X.shape, val_y.shape)\n",
    "print(window.shape)"
   ]
  },
  {
   "cell_type": "code",
   "execution_count": 11,
   "metadata": {
    "executionInfo": {
     "elapsed": 367,
     "status": "ok",
     "timestamp": 1651652206151,
     "user": {
      "displayName": "eli tedde",
      "userId": "06887910645072935678"
     },
     "user_tz": -120
    },
    "id": "AgeOnRMhKAnY"
   },
   "outputs": [],
   "source": [
    "def plot_model_rmse_and_loss(history):\n",
    "    \n",
    "    # Evaluate train and validation accuracies and losses\n",
    "    \n",
    "    train_rmse = history.history['root_mean_squared_error']\n",
    "    val_rmse = history.history['val_root_mean_squared_error']\n",
    "    \n",
    "    train_loss = history.history['loss']\n",
    "    val_loss = history.history['val_loss']\n",
    "    \n",
    "    # Visualize epochs vs. train and validation accuracies and losses\n",
    "    \n",
    "    plt.figure(figsize=(20, 10))\n",
    "    plt.subplot(1, 2, 1)\n",
    "    plt.plot(train_rmse, label='Training RMSE')\n",
    "    plt.plot(val_rmse, label='Validation RMSE')\n",
    "    plt.legend()\n",
    "    plt.title('Epochs vs. Training and Validation RMSE')\n",
    "    \n",
    "    plt.subplot(1, 2, 2)\n",
    "    plt.plot(train_loss, label='Training Loss')\n",
    "    plt.plot(val_loss, label='Validation Loss')\n",
    "    plt.legend()\n",
    "    plt.title('Epochs vs. Training and Validation Loss')\n",
    "    \n",
    "    plt.show()\n",
    "    \n",
    "def multivariate_data(dataset, target, start_index, end_index, history_size,\n",
    "                      target_size, step, single_step=False):\n",
    "    data = []\n",
    "    labels = []\n",
    "\n",
    "    start_index = start_index + history_size\n",
    "    if end_index is None:\n",
    "        end_index = len(dataset) - target_size\n",
    "        \n",
    "    for i in range(start_index, end_index):\n",
    "        indices = range(i-history_size, i, step)\n",
    "        data.append(dataset[indices])\n",
    "        \n",
    "        if single_step:\n",
    "            labels.append(target[i + target_size -1])\n",
    "        else:\n",
    "            labels.append(target[i : i + target_size -1])\n",
    "\n",
    "    return np.array(data), np.array(labels)"
   ]
  },
  {
   "cell_type": "markdown",
   "metadata": {
    "id": "DcVwI1LhWvsc"
   },
   "source": [
    "**OPTUNA: A hyperparameter optimization framework**"
   ]
  },
  {
   "cell_type": "code",
   "execution_count": null,
   "metadata": {
    "id": "1Q_4anTcB6Nw"
   },
   "outputs": [],
   "source": [
    "def create_lstm_model(X_train):\n",
    "  optimizer = \"Adam\"\n",
    "  model = tf.keras.Sequential()\n",
    "  model.add(tf.keras.layers.LSTM(128,input_shape=(X_train.shape[1], X_train.shape[2]),return_sequences=True))\n",
    "  model.add(tf.keras.layers.LeakyReLU(alpha=0.5))\n",
    "  model.add(tf.keras.layers.LSTM(128,return_sequences=True))\n",
    "  model.add(tf.keras.layers.LeakyReLU(alpha = 0.5))\n",
    "  model.add(tf.keras.layers.Dropout(0.1))\n",
    "  model.add(tf.keras.layers.LSTM(64,return_sequences=False))\n",
    "  model.add(tf.keras.layers.Dropout(0.1))\n",
    "  model.add(tf.keras.layers.Dense(1))\n",
    "  model.compile(loss=loss, optimizer= optimizer, metrics = metric)\n",
    "  return model"
   ]
  },
  {
   "cell_type": "code",
   "execution_count": null,
   "metadata": {
    "id": "aWP_ZW2FQFTF"
   },
   "outputs": [],
   "source": [
    "EPOCHS = 30# number of epocs per trial\n",
    "# batch_size = 1024\n",
    "# input_shape = X_train.shape[-2:]\n",
    "loss = tf.keras.losses.MeanSquaredError()\n",
    "metric = [tf.keras.metrics.RootMeanSquaredError()]\n",
    "early_stopping = tf.keras.callbacks.EarlyStopping(patience=20)\n",
    "model_checkpoint = tf.keras.callbacks.ModelCheckpoint(\n",
    "                   'multivariate_lstm.h5', monitor=('val_loss'), save_best_only=True)\n",
    "def objective(trial):  \n",
    "  past_history = 120\n",
    "  future_target = 0\n",
    "  batch_size = 384\n",
    "  buffer_size = 1000\n",
    "  X_train, y_train = multivariate_data(train_X, train_y,\n",
    "                                     0, train_X.shape[0], past_history, \n",
    "                                     future_target, step=1, single_step=True)\n",
    "  X_val, y_val = multivariate_data(val_X, val_y,\n",
    "                                 0, val_X.shape[0], past_history, \n",
    "                                 future_target, step=1, single_step=True)\n",
    "  # Clear clutter from previous session graphs.\n",
    "  keras.backend.clear_session()\n",
    "  # Generate our trial model.\n",
    "  model = create_lstm_model(X_train)\n",
    "\n",
    "  initial_learning_rate = trial.suggest_float(\"initial_learning_rate\", 0.0005, 0.005)\n",
    "\n",
    "  decay = initial_learning_rate / EPOCHS\n",
    "  def lr_time_based_decay(epoch, lr):\n",
    "      return lr * 1 / (1 + decay * EPOCHS)\n",
    "\n",
    "  scheduler1 = tf.keras.optimizers.schedules.ExponentialDecay(1e-3, 400*((len(X_train)*0.8)/batch_size), 1e-6)\n",
    "#learning rate scheduler\n",
    "  def scheduler2(epoch, lr):\n",
    "    if epoch < 10:\n",
    "      return lr\n",
    "    else:\n",
    "      return lr * tf.math.exp(-0.1)\n",
    "  scheduler = lr_time_based_decay\n",
    "  lr = tf.keras.callbacks.LearningRateScheduler(scheduler, verbose=0)\n",
    "\n",
    "\n",
    "\n",
    "  # Fit the model on the training data.\n",
    "  model.fit(\n",
    "      X_train,\n",
    "      y_train,\n",
    "      batch_size=batch_size,\n",
    "      callbacks=[model_checkpoint, early_stopping, lr],\n",
    "      epochs=EPOCHS,\n",
    "      validation_data=(X_val,y_val),\n",
    "      verbose=2,\n",
    "  )\n",
    "\n",
    "  # Evaluate the model accuracy on the validation set.\n",
    "  score = model.evaluate(X_val, y_val, verbose=0)\n",
    "  return score[1]"
   ]
  },
  {
   "cell_type": "code",
   "execution_count": null,
   "metadata": {
    "id": "9gYbeb40WTEm"
   },
   "outputs": [],
   "source": [
    "!pip3 install optuna\n",
    "import optuna"
   ]
  },
  {
   "cell_type": "code",
   "execution_count": null,
   "metadata": {
    "id": "kso3eiwtQFZt"
   },
   "outputs": [],
   "source": [
    "study = optuna.create_study(direction=\"minimize\", sampler=optuna.samplers.TPESampler(), pruner=optuna.pruners.HyperbandPruner())\n",
    "study.optimize(objective, n_trials=40)\n",
    "pruned_trials = study.get_trials(deepcopy=False, states=[optuna.trial.TrialState.PRUNED])\n",
    "complete_trials = study.get_trials(deepcopy=False, states=[optuna.trial.TrialState.COMPLETE])"
   ]
  },
  {
   "cell_type": "code",
   "execution_count": null,
   "metadata": {
    "id": "s9NzMRBsQH6y"
   },
   "outputs": [],
   "source": [
    "optuna.visualization.plot_optimization_history(study)"
   ]
  },
  {
   "cell_type": "code",
   "execution_count": null,
   "metadata": {
    "id": "E1rusdEpQH8a"
   },
   "outputs": [],
   "source": [
    "optuna.visualization.plot_intermediate_values(study)"
   ]
  },
  {
   "cell_type": "code",
   "execution_count": null,
   "metadata": {
    "id": "N0JpjCzXQIAI"
   },
   "outputs": [],
   "source": [
    "import optuna\n",
    "optuna.visualization.plot_param_importances(study)"
   ]
  },
  {
   "cell_type": "markdown",
   "metadata": {
    "id": "Zx1Kt79b2i8Q"
   },
   "source": [
    "**MODEL: STACKED LSTM**"
   ]
  },
  {
   "cell_type": "code",
   "execution_count": null,
   "metadata": {
    "id": "4pv9ZDSTyoKk"
   },
   "outputs": [],
   "source": [
    "  # ENCODER/DECODER\n",
    "  # model = Sequential()\n",
    "  # model.add(LSTM(200,  input_shape=(X_train.shape[1], X_train.shape[2])))\n",
    "  # model.add(RepeatVector(20))\n",
    "  # model.add(LSTM(200,  return_sequences=True))\n",
    "  # model.add(TimeDistributed(Dense(1)))\n",
    "  # model.compile(loss=loss, optimizer= optimizer, metrics = metric)"
   ]
  },
  {
   "cell_type": "code",
   "execution_count": 12,
   "metadata": {
    "executionInfo": {
     "elapsed": 339,
     "status": "ok",
     "timestamp": 1651652213470,
     "user": {
      "displayName": "eli tedde",
      "userId": "06887910645072935678"
     },
     "user_tz": -120
    },
    "id": "TEYjqrB_t4bl"
   },
   "outputs": [],
   "source": [
    "def create_lstm_model(X_train):\n",
    "  optimizer = \"Adam\"\n",
    "  model = tf.keras.Sequential()\n",
    "  model.add(tf.keras.layers.LSTM(128,input_shape=(X_train.shape[1], X_train.shape[2]),return_sequences=True))\n",
    "  model.add(tf.keras.layers.LeakyReLU(alpha=0.5))\n",
    "  model.add(tf.keras.layers.LSTM(128,return_sequences=True))\n",
    "  model.add(tf.keras.layers.LeakyReLU(alpha = 0.5))\n",
    "  model.add(tf.keras.layers.Dropout(0.1))\n",
    "  model.add(tf.keras.layers.LSTM(64,return_sequences=False))\n",
    "  model.add(tf.keras.layers.Dropout(0.1))\n",
    "  model.add(tf.keras.layers.Dense(1))\n",
    "  model.compile(loss=loss, optimizer= optimizer, metrics = metric)\n",
    "  return model"
   ]
  },
  {
   "cell_type": "code",
   "execution_count": 13,
   "metadata": {
    "colab": {
     "base_uri": "https://localhost:8080/"
    },
    "executionInfo": {
     "elapsed": 2623,
     "status": "ok",
     "timestamp": 1651652217882,
     "user": {
      "displayName": "eli tedde",
      "userId": "06887910645072935678"
     },
     "user_tz": -120
    },
    "id": "09Qhn3UqBCol",
    "outputId": "dd6919a9-2d11-4363-f4f6-1480572277bd"
   },
   "outputs": [
    {
     "name": "stdout",
     "output_type": "stream",
     "text": [
      "X_train shape is:(74619, 120, 12)\n",
      "y_train shape is:(74619,)\n",
      "X_val shape is:(8918, 120, 12)\n",
      "y_val shape is:(8918,)\n"
     ]
    }
   ],
   "source": [
    "past_history = 120\n",
    "future_target = 0\n",
    "batch_size = 384\n",
    "X_train, y_train = multivariate_data(train_X, train_y,\n",
    "                                    0, train_X.shape[0], past_history, \n",
    "                                    future_target, step=1, single_step=True)\n",
    "X_val, y_val = multivariate_data(val_X, val_y,\n",
    "                                0, val_X.shape[0], past_history, \n",
    "                                future_target, step=1, single_step=True)\n",
    "print(\"X_train shape is:\" + str(X_train.shape))\n",
    "print(\"y_train shape is:\" + str(y_train.shape))\n",
    "print(\"X_val shape is:\" + str(X_val.shape))\n",
    "print(\"y_val shape is:\" + str(y_val.shape))"
   ]
  },
  {
   "cell_type": "code",
   "execution_count": 14,
   "metadata": {
    "colab": {
     "base_uri": "https://localhost:8080/",
     "height": 1000
    },
    "executionInfo": {
     "elapsed": 1944491,
     "status": "ok",
     "timestamp": 1651654162368,
     "user": {
      "displayName": "eli tedde",
      "userId": "06887910645072935678"
     },
     "user_tz": -120
    },
    "id": "ydI2_cJye2ut",
    "outputId": "42451769-ed58-4a59-c03b-e2005cf4c490"
   },
   "outputs": [
    {
     "name": "stdout",
     "output_type": "stream",
     "text": [
      "Epoch 1/200\n",
      "195/195 [==============================] - 18s 51ms/step - loss: 0.0047 - root_mean_squared_error: 0.0683 - val_loss: 0.0033 - val_root_mean_squared_error: 0.0576 - lr: 0.0010\n",
      "Epoch 2/200\n",
      "195/195 [==============================] - 9s 46ms/step - loss: 0.0014 - root_mean_squared_error: 0.0376 - val_loss: 0.0047 - val_root_mean_squared_error: 0.0686 - lr: 9.9978e-04\n",
      "Epoch 3/200\n",
      "195/195 [==============================] - 9s 46ms/step - loss: 8.9623e-04 - root_mean_squared_error: 0.0299 - val_loss: 0.0014 - val_root_mean_squared_error: 0.0380 - lr: 9.9956e-04\n",
      "Epoch 4/200\n",
      "195/195 [==============================] - 9s 47ms/step - loss: 7.1754e-04 - root_mean_squared_error: 0.0268 - val_loss: 0.0020 - val_root_mean_squared_error: 0.0452 - lr: 9.9933e-04\n",
      "Epoch 5/200\n",
      "195/195 [==============================] - 9s 47ms/step - loss: 6.3510e-04 - root_mean_squared_error: 0.0252 - val_loss: 0.0015 - val_root_mean_squared_error: 0.0392 - lr: 9.9911e-04\n",
      "Epoch 6/200\n",
      "195/195 [==============================] - 9s 48ms/step - loss: 5.6268e-04 - root_mean_squared_error: 0.0237 - val_loss: 0.0012 - val_root_mean_squared_error: 0.0340 - lr: 9.9889e-04\n",
      "Epoch 7/200\n",
      "195/195 [==============================] - 9s 48ms/step - loss: 5.0264e-04 - root_mean_squared_error: 0.0224 - val_loss: 0.0025 - val_root_mean_squared_error: 0.0496 - lr: 9.9867e-04\n",
      "Epoch 8/200\n",
      "195/195 [==============================] - 10s 49ms/step - loss: 4.6675e-04 - root_mean_squared_error: 0.0216 - val_loss: 6.7922e-04 - val_root_mean_squared_error: 0.0261 - lr: 9.9845e-04\n",
      "Epoch 9/200\n",
      "195/195 [==============================] - 10s 49ms/step - loss: 4.1856e-04 - root_mean_squared_error: 0.0205 - val_loss: 9.1551e-04 - val_root_mean_squared_error: 0.0303 - lr: 9.9822e-04\n",
      "Epoch 10/200\n",
      "195/195 [==============================] - 10s 50ms/step - loss: 4.0358e-04 - root_mean_squared_error: 0.0201 - val_loss: 0.0013 - val_root_mean_squared_error: 0.0363 - lr: 9.9800e-04\n",
      "Epoch 11/200\n",
      "195/195 [==============================] - 10s 50ms/step - loss: 3.8026e-04 - root_mean_squared_error: 0.0195 - val_loss: 0.0023 - val_root_mean_squared_error: 0.0482 - lr: 9.9778e-04\n",
      "Epoch 12/200\n",
      "195/195 [==============================] - 10s 50ms/step - loss: 3.6725e-04 - root_mean_squared_error: 0.0192 - val_loss: 9.5128e-04 - val_root_mean_squared_error: 0.0308 - lr: 9.9756e-04\n",
      "Epoch 13/200\n",
      "195/195 [==============================] - 10s 49ms/step - loss: 3.4456e-04 - root_mean_squared_error: 0.0186 - val_loss: 0.0017 - val_root_mean_squared_error: 0.0418 - lr: 9.9734e-04\n",
      "Epoch 14/200\n",
      "195/195 [==============================] - 10s 49ms/step - loss: 3.2941e-04 - root_mean_squared_error: 0.0181 - val_loss: 0.0018 - val_root_mean_squared_error: 0.0425 - lr: 9.9712e-04\n",
      "Epoch 15/200\n",
      "195/195 [==============================] - 10s 49ms/step - loss: 3.0375e-04 - root_mean_squared_error: 0.0174 - val_loss: 7.7983e-04 - val_root_mean_squared_error: 0.0279 - lr: 9.9689e-04\n",
      "Epoch 16/200\n",
      "195/195 [==============================] - 10s 49ms/step - loss: 3.0113e-04 - root_mean_squared_error: 0.0174 - val_loss: 0.0015 - val_root_mean_squared_error: 0.0384 - lr: 9.9667e-04\n",
      "Epoch 17/200\n",
      "195/195 [==============================] - 10s 50ms/step - loss: 2.8748e-04 - root_mean_squared_error: 0.0170 - val_loss: 0.0012 - val_root_mean_squared_error: 0.0347 - lr: 9.9645e-04\n",
      "Epoch 18/200\n",
      "195/195 [==============================] - 10s 49ms/step - loss: 2.8022e-04 - root_mean_squared_error: 0.0167 - val_loss: 0.0016 - val_root_mean_squared_error: 0.0403 - lr: 9.9623e-04\n",
      "Epoch 19/200\n",
      "195/195 [==============================] - 10s 50ms/step - loss: 2.6951e-04 - root_mean_squared_error: 0.0164 - val_loss: 8.2321e-04 - val_root_mean_squared_error: 0.0287 - lr: 9.9601e-04\n",
      "Epoch 20/200\n",
      "195/195 [==============================] - 10s 50ms/step - loss: 2.6349e-04 - root_mean_squared_error: 0.0162 - val_loss: 6.4844e-04 - val_root_mean_squared_error: 0.0255 - lr: 9.9579e-04\n",
      "Epoch 21/200\n",
      "195/195 [==============================] - 10s 50ms/step - loss: 2.6120e-04 - root_mean_squared_error: 0.0162 - val_loss: 0.0017 - val_root_mean_squared_error: 0.0414 - lr: 9.9557e-04\n",
      "Epoch 22/200\n",
      "195/195 [==============================] - 10s 49ms/step - loss: 2.5006e-04 - root_mean_squared_error: 0.0158 - val_loss: 0.0011 - val_root_mean_squared_error: 0.0337 - lr: 9.9535e-04\n",
      "Epoch 23/200\n",
      "195/195 [==============================] - 10s 49ms/step - loss: 2.3861e-04 - root_mean_squared_error: 0.0154 - val_loss: 0.0013 - val_root_mean_squared_error: 0.0364 - lr: 9.9512e-04\n",
      "Epoch 24/200\n",
      "195/195 [==============================] - 10s 49ms/step - loss: 2.3814e-04 - root_mean_squared_error: 0.0154 - val_loss: 0.0011 - val_root_mean_squared_error: 0.0336 - lr: 9.9490e-04\n",
      "Epoch 25/200\n",
      "195/195 [==============================] - 10s 50ms/step - loss: 2.3090e-04 - root_mean_squared_error: 0.0152 - val_loss: 0.0012 - val_root_mean_squared_error: 0.0341 - lr: 9.9468e-04\n",
      "Epoch 26/200\n",
      "195/195 [==============================] - 10s 49ms/step - loss: 2.2823e-04 - root_mean_squared_error: 0.0151 - val_loss: 0.0024 - val_root_mean_squared_error: 0.0491 - lr: 9.9446e-04\n",
      "Epoch 27/200\n",
      "195/195 [==============================] - 10s 50ms/step - loss: 2.2614e-04 - root_mean_squared_error: 0.0150 - val_loss: 0.0014 - val_root_mean_squared_error: 0.0369 - lr: 9.9424e-04\n",
      "Epoch 28/200\n",
      "195/195 [==============================] - 10s 50ms/step - loss: 2.2701e-04 - root_mean_squared_error: 0.0151 - val_loss: 0.0023 - val_root_mean_squared_error: 0.0484 - lr: 9.9402e-04\n",
      "Epoch 29/200\n",
      "195/195 [==============================] - 10s 50ms/step - loss: 2.1544e-04 - root_mean_squared_error: 0.0147 - val_loss: 8.6126e-04 - val_root_mean_squared_error: 0.0293 - lr: 9.9380e-04\n",
      "Epoch 30/200\n",
      "195/195 [==============================] - 10s 50ms/step - loss: 2.1619e-04 - root_mean_squared_error: 0.0147 - val_loss: 0.0011 - val_root_mean_squared_error: 0.0334 - lr: 9.9358e-04\n",
      "Epoch 31/200\n",
      "195/195 [==============================] - 10s 50ms/step - loss: 2.0875e-04 - root_mean_squared_error: 0.0144 - val_loss: 6.6555e-04 - val_root_mean_squared_error: 0.0258 - lr: 9.9336e-04\n",
      "Epoch 32/200\n",
      "195/195 [==============================] - 10s 50ms/step - loss: 2.1099e-04 - root_mean_squared_error: 0.0145 - val_loss: 0.0013 - val_root_mean_squared_error: 0.0355 - lr: 9.9314e-04\n",
      "Epoch 33/200\n",
      "195/195 [==============================] - 10s 50ms/step - loss: 2.0560e-04 - root_mean_squared_error: 0.0143 - val_loss: 0.0014 - val_root_mean_squared_error: 0.0372 - lr: 9.9292e-04\n",
      "Epoch 34/200\n",
      "195/195 [==============================] - 10s 50ms/step - loss: 2.0817e-04 - root_mean_squared_error: 0.0144 - val_loss: 6.6177e-04 - val_root_mean_squared_error: 0.0257 - lr: 9.9269e-04\n",
      "Epoch 35/200\n",
      "195/195 [==============================] - 10s 50ms/step - loss: 2.0906e-04 - root_mean_squared_error: 0.0145 - val_loss: 0.0017 - val_root_mean_squared_error: 0.0413 - lr: 9.9247e-04\n",
      "Epoch 36/200\n",
      "195/195 [==============================] - 10s 50ms/step - loss: 2.0514e-04 - root_mean_squared_error: 0.0143 - val_loss: 9.6868e-04 - val_root_mean_squared_error: 0.0311 - lr: 9.9225e-04\n",
      "Epoch 37/200\n",
      "195/195 [==============================] - 10s 50ms/step - loss: 2.0291e-04 - root_mean_squared_error: 0.0142 - val_loss: 8.4235e-04 - val_root_mean_squared_error: 0.0290 - lr: 9.9203e-04\n",
      "Epoch 38/200\n",
      "195/195 [==============================] - 10s 49ms/step - loss: 2.0492e-04 - root_mean_squared_error: 0.0143 - val_loss: 7.1608e-04 - val_root_mean_squared_error: 0.0268 - lr: 9.9181e-04\n",
      "Epoch 39/200\n",
      "195/195 [==============================] - 10s 50ms/step - loss: 1.9976e-04 - root_mean_squared_error: 0.0141 - val_loss: 0.0018 - val_root_mean_squared_error: 0.0419 - lr: 9.9159e-04\n",
      "Epoch 40/200\n",
      "195/195 [==============================] - 10s 50ms/step - loss: 2.0819e-04 - root_mean_squared_error: 0.0144 - val_loss: 0.0016 - val_root_mean_squared_error: 0.0395 - lr: 9.9137e-04\n",
      "Epoch 41/200\n",
      "195/195 [==============================] - 10s 50ms/step - loss: 1.9458e-04 - root_mean_squared_error: 0.0139 - val_loss: 8.0446e-04 - val_root_mean_squared_error: 0.0284 - lr: 9.9115e-04\n",
      "Epoch 42/200\n",
      "195/195 [==============================] - 10s 50ms/step - loss: 1.9735e-04 - root_mean_squared_error: 0.0140 - val_loss: 6.2802e-04 - val_root_mean_squared_error: 0.0251 - lr: 9.9093e-04\n",
      "Epoch 43/200\n",
      "195/195 [==============================] - 10s 50ms/step - loss: 1.9663e-04 - root_mean_squared_error: 0.0140 - val_loss: 6.5788e-04 - val_root_mean_squared_error: 0.0256 - lr: 9.9071e-04\n",
      "Epoch 44/200\n",
      "195/195 [==============================] - 10s 50ms/step - loss: 1.9438e-04 - root_mean_squared_error: 0.0139 - val_loss: 0.0020 - val_root_mean_squared_error: 0.0448 - lr: 9.9049e-04\n",
      "Epoch 45/200\n",
      "195/195 [==============================] - 10s 50ms/step - loss: 1.9815e-04 - root_mean_squared_error: 0.0141 - val_loss: 0.0011 - val_root_mean_squared_error: 0.0334 - lr: 9.9027e-04\n",
      "Epoch 46/200\n",
      "195/195 [==============================] - 10s 50ms/step - loss: 2.0023e-04 - root_mean_squared_error: 0.0142 - val_loss: 9.0320e-04 - val_root_mean_squared_error: 0.0301 - lr: 9.9005e-04\n",
      "Epoch 47/200\n",
      "195/195 [==============================] - 10s 50ms/step - loss: 1.9496e-04 - root_mean_squared_error: 0.0140 - val_loss: 6.5390e-04 - val_root_mean_squared_error: 0.0256 - lr: 9.8983e-04\n",
      "Epoch 48/200\n",
      "195/195 [==============================] - 10s 49ms/step - loss: 1.9800e-04 - root_mean_squared_error: 0.0141 - val_loss: 0.0011 - val_root_mean_squared_error: 0.0336 - lr: 9.8961e-04\n",
      "Epoch 49/200\n",
      "195/195 [==============================] - 10s 50ms/step - loss: 1.9650e-04 - root_mean_squared_error: 0.0140 - val_loss: 0.0024 - val_root_mean_squared_error: 0.0488 - lr: 9.8939e-04\n",
      "Epoch 50/200\n",
      "195/195 [==============================] - 10s 50ms/step - loss: 1.9986e-04 - root_mean_squared_error: 0.0141 - val_loss: 0.0012 - val_root_mean_squared_error: 0.0353 - lr: 9.8917e-04\n",
      "Epoch 51/200\n",
      "195/195 [==============================] - 10s 50ms/step - loss: 1.9070e-04 - root_mean_squared_error: 0.0138 - val_loss: 0.0010 - val_root_mean_squared_error: 0.0320 - lr: 9.8895e-04\n",
      "Epoch 52/200\n",
      "195/195 [==============================] - 10s 50ms/step - loss: 1.9285e-04 - root_mean_squared_error: 0.0139 - val_loss: 7.5255e-04 - val_root_mean_squared_error: 0.0274 - lr: 9.8873e-04\n",
      "Epoch 53/200\n",
      "195/195 [==============================] - 10s 50ms/step - loss: 1.9266e-04 - root_mean_squared_error: 0.0139 - val_loss: 0.0015 - val_root_mean_squared_error: 0.0390 - lr: 9.8851e-04\n",
      "Epoch 54/200\n",
      "195/195 [==============================] - 10s 50ms/step - loss: 1.9054e-04 - root_mean_squared_error: 0.0138 - val_loss: 0.0012 - val_root_mean_squared_error: 0.0341 - lr: 9.8829e-04\n",
      "Epoch 55/200\n",
      "195/195 [==============================] - 10s 50ms/step - loss: 1.8936e-04 - root_mean_squared_error: 0.0138 - val_loss: 7.8407e-04 - val_root_mean_squared_error: 0.0280 - lr: 9.8807e-04\n",
      "Epoch 56/200\n",
      "195/195 [==============================] - 10s 50ms/step - loss: 1.8985e-04 - root_mean_squared_error: 0.0138 - val_loss: 9.8636e-04 - val_root_mean_squared_error: 0.0314 - lr: 9.8785e-04\n",
      "Epoch 57/200\n",
      "195/195 [==============================] - 10s 50ms/step - loss: 1.9405e-04 - root_mean_squared_error: 0.0139 - val_loss: 0.0015 - val_root_mean_squared_error: 0.0388 - lr: 9.8764e-04\n",
      "Epoch 58/200\n",
      "195/195 [==============================] - 10s 50ms/step - loss: 1.8985e-04 - root_mean_squared_error: 0.0138 - val_loss: 0.0014 - val_root_mean_squared_error: 0.0381 - lr: 9.8742e-04\n",
      "Epoch 59/200\n",
      "195/195 [==============================] - 10s 50ms/step - loss: 1.9010e-04 - root_mean_squared_error: 0.0138 - val_loss: 0.0017 - val_root_mean_squared_error: 0.0417 - lr: 9.8720e-04\n",
      "Epoch 60/200\n",
      "195/195 [==============================] - 10s 50ms/step - loss: 1.8844e-04 - root_mean_squared_error: 0.0137 - val_loss: 8.9190e-04 - val_root_mean_squared_error: 0.0299 - lr: 9.8698e-04\n",
      "Epoch 61/200\n",
      "195/195 [==============================] - 10s 50ms/step - loss: 1.8707e-04 - root_mean_squared_error: 0.0137 - val_loss: 7.3475e-04 - val_root_mean_squared_error: 0.0271 - lr: 9.8676e-04\n",
      "Epoch 62/200\n",
      "195/195 [==============================] - 10s 50ms/step - loss: 1.9008e-04 - root_mean_squared_error: 0.0138 - val_loss: 9.7995e-04 - val_root_mean_squared_error: 0.0313 - lr: 9.8654e-04\n",
      "Epoch 63/200\n",
      "195/195 [==============================] - 10s 50ms/step - loss: 1.8895e-04 - root_mean_squared_error: 0.0137 - val_loss: 0.0011 - val_root_mean_squared_error: 0.0326 - lr: 9.8632e-04\n",
      "Epoch 64/200\n",
      "195/195 [==============================] - 10s 50ms/step - loss: 1.8861e-04 - root_mean_squared_error: 0.0137 - val_loss: 0.0018 - val_root_mean_squared_error: 0.0430 - lr: 9.8610e-04\n",
      "Epoch 65/200\n",
      "195/195 [==============================] - 10s 50ms/step - loss: 1.8616e-04 - root_mean_squared_error: 0.0136 - val_loss: 0.0014 - val_root_mean_squared_error: 0.0378 - lr: 9.8588e-04\n",
      "Epoch 66/200\n",
      "195/195 [==============================] - 10s 49ms/step - loss: 1.8822e-04 - root_mean_squared_error: 0.0137 - val_loss: 0.0012 - val_root_mean_squared_error: 0.0350 - lr: 9.8566e-04\n",
      "Epoch 67/200\n",
      "195/195 [==============================] - 10s 50ms/step - loss: 1.8968e-04 - root_mean_squared_error: 0.0138 - val_loss: 0.0014 - val_root_mean_squared_error: 0.0371 - lr: 9.8544e-04\n",
      "Epoch 68/200\n",
      "195/195 [==============================] - 10s 50ms/step - loss: 1.8499e-04 - root_mean_squared_error: 0.0136 - val_loss: 0.0012 - val_root_mean_squared_error: 0.0353 - lr: 9.8522e-04\n",
      "Epoch 69/200\n",
      "195/195 [==============================] - 10s 50ms/step - loss: 1.8694e-04 - root_mean_squared_error: 0.0137 - val_loss: 7.7051e-04 - val_root_mean_squared_error: 0.0278 - lr: 9.8501e-04\n",
      "Epoch 70/200\n",
      "195/195 [==============================] - 10s 50ms/step - loss: 1.8669e-04 - root_mean_squared_error: 0.0137 - val_loss: 0.0011 - val_root_mean_squared_error: 0.0339 - lr: 9.8479e-04\n",
      "Epoch 71/200\n",
      "195/195 [==============================] - 10s 50ms/step - loss: 1.8294e-04 - root_mean_squared_error: 0.0135 - val_loss: 0.0010 - val_root_mean_squared_error: 0.0316 - lr: 9.8457e-04\n",
      "Epoch 72/200\n",
      "195/195 [==============================] - 10s 50ms/step - loss: 1.8508e-04 - root_mean_squared_error: 0.0136 - val_loss: 0.0010 - val_root_mean_squared_error: 0.0318 - lr: 9.8435e-04\n",
      "Epoch 73/200\n",
      "195/195 [==============================] - 10s 50ms/step - loss: 1.8253e-04 - root_mean_squared_error: 0.0135 - val_loss: 0.0013 - val_root_mean_squared_error: 0.0362 - lr: 9.8413e-04\n",
      "Epoch 74/200\n",
      "195/195 [==============================] - 10s 50ms/step - loss: 1.8291e-04 - root_mean_squared_error: 0.0135 - val_loss: 9.0629e-04 - val_root_mean_squared_error: 0.0301 - lr: 9.8391e-04\n",
      "Epoch 75/200\n",
      "195/195 [==============================] - 10s 50ms/step - loss: 1.8478e-04 - root_mean_squared_error: 0.0136 - val_loss: 0.0011 - val_root_mean_squared_error: 0.0327 - lr: 9.8369e-04\n",
      "Epoch 76/200\n",
      "195/195 [==============================] - 10s 49ms/step - loss: 1.8343e-04 - root_mean_squared_error: 0.0135 - val_loss: 0.0012 - val_root_mean_squared_error: 0.0346 - lr: 9.8347e-04\n",
      "Epoch 77/200\n",
      "195/195 [==============================] - 10s 50ms/step - loss: 1.8922e-04 - root_mean_squared_error: 0.0138 - val_loss: 0.0010 - val_root_mean_squared_error: 0.0318 - lr: 9.8326e-04\n",
      "Epoch 78/200\n",
      "195/195 [==============================] - 10s 50ms/step - loss: 1.8752e-04 - root_mean_squared_error: 0.0137 - val_loss: 0.0018 - val_root_mean_squared_error: 0.0420 - lr: 9.8304e-04\n",
      "Epoch 79/200\n",
      "195/195 [==============================] - 10s 50ms/step - loss: 1.8350e-04 - root_mean_squared_error: 0.0135 - val_loss: 8.6555e-04 - val_root_mean_squared_error: 0.0294 - lr: 9.8282e-04\n",
      "Epoch 80/200\n",
      "195/195 [==============================] - 10s 50ms/step - loss: 1.8286e-04 - root_mean_squared_error: 0.0135 - val_loss: 0.0015 - val_root_mean_squared_error: 0.0390 - lr: 9.8260e-04\n",
      "Epoch 81/200\n",
      "195/195 [==============================] - 10s 50ms/step - loss: 1.8425e-04 - root_mean_squared_error: 0.0136 - val_loss: 0.0012 - val_root_mean_squared_error: 0.0353 - lr: 9.8238e-04\n",
      "Epoch 82/200\n",
      "195/195 [==============================] - 10s 49ms/step - loss: 1.8458e-04 - root_mean_squared_error: 0.0136 - val_loss: 0.0013 - val_root_mean_squared_error: 0.0360 - lr: 9.8216e-04\n",
      "Epoch 83/200\n",
      "195/195 [==============================] - 10s 50ms/step - loss: 1.8508e-04 - root_mean_squared_error: 0.0136 - val_loss: 0.0022 - val_root_mean_squared_error: 0.0465 - lr: 9.8195e-04\n",
      "Epoch 84/200\n",
      "195/195 [==============================] - 10s 50ms/step - loss: 1.8127e-04 - root_mean_squared_error: 0.0135 - val_loss: 8.4040e-04 - val_root_mean_squared_error: 0.0290 - lr: 9.8173e-04\n",
      "Epoch 85/200\n",
      "195/195 [==============================] - 10s 49ms/step - loss: 1.8512e-04 - root_mean_squared_error: 0.0136 - val_loss: 0.0015 - val_root_mean_squared_error: 0.0392 - lr: 9.8151e-04\n",
      "Epoch 86/200\n",
      "195/195 [==============================] - 10s 50ms/step - loss: 1.8256e-04 - root_mean_squared_error: 0.0135 - val_loss: 0.0012 - val_root_mean_squared_error: 0.0349 - lr: 9.8129e-04\n",
      "Epoch 87/200\n",
      "195/195 [==============================] - 10s 50ms/step - loss: 1.8343e-04 - root_mean_squared_error: 0.0135 - val_loss: 0.0021 - val_root_mean_squared_error: 0.0457 - lr: 9.8107e-04\n",
      "Epoch 88/200\n",
      "195/195 [==============================] - 10s 49ms/step - loss: 1.8067e-04 - root_mean_squared_error: 0.0134 - val_loss: 8.7200e-04 - val_root_mean_squared_error: 0.0295 - lr: 9.8086e-04\n",
      "Epoch 89/200\n",
      "195/195 [==============================] - 10s 49ms/step - loss: 1.8255e-04 - root_mean_squared_error: 0.0135 - val_loss: 0.0011 - val_root_mean_squared_error: 0.0332 - lr: 9.8064e-04\n",
      "Epoch 90/200\n",
      "195/195 [==============================] - 10s 49ms/step - loss: 1.8049e-04 - root_mean_squared_error: 0.0134 - val_loss: 0.0011 - val_root_mean_squared_error: 0.0325 - lr: 9.8042e-04\n",
      "Epoch 91/200\n",
      "195/195 [==============================] - 10s 49ms/step - loss: 1.8032e-04 - root_mean_squared_error: 0.0134 - val_loss: 0.0012 - val_root_mean_squared_error: 0.0341 - lr: 9.8020e-04\n",
      "Epoch 92/200\n",
      "195/195 [==============================] - 10s 50ms/step - loss: 1.8158e-04 - root_mean_squared_error: 0.0135 - val_loss: 0.0011 - val_root_mean_squared_error: 0.0333 - lr: 9.7998e-04\n",
      "Epoch 93/200\n",
      "195/195 [==============================] - 10s 50ms/step - loss: 1.8360e-04 - root_mean_squared_error: 0.0136 - val_loss: 8.9750e-04 - val_root_mean_squared_error: 0.0300 - lr: 9.7977e-04\n",
      "Epoch 94/200\n",
      "195/195 [==============================] - 10s 49ms/step - loss: 1.8061e-04 - root_mean_squared_error: 0.0134 - val_loss: 0.0016 - val_root_mean_squared_error: 0.0405 - lr: 9.7955e-04\n",
      "Epoch 95/200\n",
      "195/195 [==============================] - 10s 49ms/step - loss: 1.8222e-04 - root_mean_squared_error: 0.0135 - val_loss: 0.0011 - val_root_mean_squared_error: 0.0331 - lr: 9.7933e-04\n",
      "Epoch 96/200\n",
      "195/195 [==============================] - 10s 50ms/step - loss: 1.8302e-04 - root_mean_squared_error: 0.0135 - val_loss: 0.0014 - val_root_mean_squared_error: 0.0377 - lr: 9.7911e-04\n",
      "Epoch 97/200\n",
      "195/195 [==============================] - 10s 50ms/step - loss: 1.8007e-04 - root_mean_squared_error: 0.0134 - val_loss: 0.0014 - val_root_mean_squared_error: 0.0377 - lr: 9.7890e-04\n",
      "Epoch 98/200\n",
      "195/195 [==============================] - 10s 50ms/step - loss: 1.7830e-04 - root_mean_squared_error: 0.0134 - val_loss: 0.0017 - val_root_mean_squared_error: 0.0411 - lr: 9.7868e-04\n",
      "Epoch 99/200\n",
      "195/195 [==============================] - 10s 50ms/step - loss: 1.7540e-04 - root_mean_squared_error: 0.0132 - val_loss: 0.0014 - val_root_mean_squared_error: 0.0370 - lr: 9.7846e-04\n",
      "Epoch 100/200\n",
      "195/195 [==============================] - 10s 50ms/step - loss: 1.7990e-04 - root_mean_squared_error: 0.0134 - val_loss: 7.5272e-04 - val_root_mean_squared_error: 0.0274 - lr: 9.7824e-04\n",
      "Epoch 101/200\n",
      "195/195 [==============================] - 10s 50ms/step - loss: 1.7922e-04 - root_mean_squared_error: 0.0134 - val_loss: 7.4794e-04 - val_root_mean_squared_error: 0.0273 - lr: 9.7803e-04\n",
      "Epoch 102/200\n",
      "195/195 [==============================] - 10s 50ms/step - loss: 1.7934e-04 - root_mean_squared_error: 0.0134 - val_loss: 9.5712e-04 - val_root_mean_squared_error: 0.0309 - lr: 9.7781e-04\n",
      "Epoch 103/200\n",
      "195/195 [==============================] - 10s 50ms/step - loss: 1.7727e-04 - root_mean_squared_error: 0.0133 - val_loss: 9.3874e-04 - val_root_mean_squared_error: 0.0306 - lr: 9.7759e-04\n",
      "Epoch 104/200\n",
      "195/195 [==============================] - 10s 50ms/step - loss: 1.7669e-04 - root_mean_squared_error: 0.0133 - val_loss: 7.3270e-04 - val_root_mean_squared_error: 0.0271 - lr: 9.7738e-04\n",
      "Epoch 105/200\n",
      "195/195 [==============================] - 10s 50ms/step - loss: 1.7926e-04 - root_mean_squared_error: 0.0134 - val_loss: 0.0011 - val_root_mean_squared_error: 0.0331 - lr: 9.7716e-04\n",
      "Epoch 106/200\n",
      "195/195 [==============================] - 10s 50ms/step - loss: 1.7685e-04 - root_mean_squared_error: 0.0133 - val_loss: 8.6912e-04 - val_root_mean_squared_error: 0.0295 - lr: 9.7694e-04\n",
      "Epoch 107/200\n",
      "195/195 [==============================] - 10s 50ms/step - loss: 1.7616e-04 - root_mean_squared_error: 0.0133 - val_loss: 0.0013 - val_root_mean_squared_error: 0.0357 - lr: 9.7672e-04\n",
      "Epoch 108/200\n",
      "195/195 [==============================] - 10s 50ms/step - loss: 1.7875e-04 - root_mean_squared_error: 0.0134 - val_loss: 8.4200e-04 - val_root_mean_squared_error: 0.0290 - lr: 9.7651e-04\n",
      "Epoch 109/200\n",
      "195/195 [==============================] - 10s 50ms/step - loss: 1.7823e-04 - root_mean_squared_error: 0.0134 - val_loss: 0.0021 - val_root_mean_squared_error: 0.0462 - lr: 9.7629e-04\n",
      "Epoch 110/200\n",
      "195/195 [==============================] - 10s 49ms/step - loss: 1.8383e-04 - root_mean_squared_error: 0.0136 - val_loss: 0.0013 - val_root_mean_squared_error: 0.0356 - lr: 9.7607e-04\n",
      "Epoch 111/200\n",
      "195/195 [==============================] - 10s 50ms/step - loss: 1.7812e-04 - root_mean_squared_error: 0.0133 - val_loss: 0.0012 - val_root_mean_squared_error: 0.0349 - lr: 9.7586e-04\n",
      "Epoch 112/200\n",
      "195/195 [==============================] - 10s 50ms/step - loss: 1.7765e-04 - root_mean_squared_error: 0.0133 - val_loss: 0.0011 - val_root_mean_squared_error: 0.0335 - lr: 9.7564e-04\n",
      "Epoch 113/200\n",
      "195/195 [==============================] - 10s 50ms/step - loss: 1.7839e-04 - root_mean_squared_error: 0.0134 - val_loss: 9.1429e-04 - val_root_mean_squared_error: 0.0302 - lr: 9.7542e-04\n",
      "Epoch 114/200\n",
      "195/195 [==============================] - 10s 50ms/step - loss: 1.7649e-04 - root_mean_squared_error: 0.0133 - val_loss: 0.0014 - val_root_mean_squared_error: 0.0374 - lr: 9.7521e-04\n",
      "Epoch 115/200\n",
      "195/195 [==============================] - 10s 50ms/step - loss: 1.7832e-04 - root_mean_squared_error: 0.0134 - val_loss: 0.0016 - val_root_mean_squared_error: 0.0405 - lr: 9.7499e-04\n",
      "Epoch 116/200\n",
      "195/195 [==============================] - 10s 50ms/step - loss: 1.7778e-04 - root_mean_squared_error: 0.0133 - val_loss: 0.0018 - val_root_mean_squared_error: 0.0425 - lr: 9.7477e-04\n",
      "Epoch 117/200\n",
      "195/195 [==============================] - 10s 50ms/step - loss: 1.8014e-04 - root_mean_squared_error: 0.0134 - val_loss: 0.0019 - val_root_mean_squared_error: 0.0436 - lr: 9.7456e-04\n",
      "Epoch 118/200\n",
      "195/195 [==============================] - 10s 50ms/step - loss: 1.7603e-04 - root_mean_squared_error: 0.0133 - val_loss: 0.0015 - val_root_mean_squared_error: 0.0392 - lr: 9.7434e-04\n",
      "Epoch 119/200\n",
      "195/195 [==============================] - 10s 50ms/step - loss: 1.7604e-04 - root_mean_squared_error: 0.0133 - val_loss: 0.0012 - val_root_mean_squared_error: 0.0342 - lr: 9.7412e-04\n",
      "Epoch 120/200\n",
      "195/195 [==============================] - 10s 50ms/step - loss: 1.7514e-04 - root_mean_squared_error: 0.0132 - val_loss: 0.0011 - val_root_mean_squared_error: 0.0338 - lr: 9.7391e-04\n",
      "Epoch 121/200\n",
      "195/195 [==============================] - 10s 50ms/step - loss: 1.7879e-04 - root_mean_squared_error: 0.0134 - val_loss: 8.4559e-04 - val_root_mean_squared_error: 0.0291 - lr: 9.7369e-04\n",
      "Epoch 122/200\n",
      "195/195 [==============================] - 10s 50ms/step - loss: 1.7680e-04 - root_mean_squared_error: 0.0133 - val_loss: 0.0011 - val_root_mean_squared_error: 0.0337 - lr: 9.7347e-04\n",
      "Epoch 123/200\n",
      "195/195 [==============================] - 10s 50ms/step - loss: 1.7212e-04 - root_mean_squared_error: 0.0131 - val_loss: 0.0011 - val_root_mean_squared_error: 0.0338 - lr: 9.7326e-04\n",
      "Epoch 124/200\n",
      "195/195 [==============================] - 10s 50ms/step - loss: 1.7678e-04 - root_mean_squared_error: 0.0133 - val_loss: 9.8498e-04 - val_root_mean_squared_error: 0.0314 - lr: 9.7304e-04\n",
      "Epoch 125/200\n",
      "195/195 [==============================] - 10s 50ms/step - loss: 1.7501e-04 - root_mean_squared_error: 0.0132 - val_loss: 9.9879e-04 - val_root_mean_squared_error: 0.0316 - lr: 9.7283e-04\n",
      "Epoch 126/200\n",
      "195/195 [==============================] - 10s 50ms/step - loss: 1.7504e-04 - root_mean_squared_error: 0.0132 - val_loss: 8.9079e-04 - val_root_mean_squared_error: 0.0298 - lr: 9.7261e-04\n",
      "Epoch 127/200\n",
      "195/195 [==============================] - 10s 50ms/step - loss: 1.7560e-04 - root_mean_squared_error: 0.0133 - val_loss: 0.0014 - val_root_mean_squared_error: 0.0378 - lr: 9.7239e-04\n",
      "Epoch 128/200\n",
      "195/195 [==============================] - 10s 50ms/step - loss: 1.7596e-04 - root_mean_squared_error: 0.0133 - val_loss: 0.0011 - val_root_mean_squared_error: 0.0326 - lr: 9.7218e-04\n",
      "Epoch 129/200\n",
      "195/195 [==============================] - 10s 50ms/step - loss: 1.7281e-04 - root_mean_squared_error: 0.0131 - val_loss: 8.4368e-04 - val_root_mean_squared_error: 0.0290 - lr: 9.7196e-04\n",
      "Epoch 130/200\n",
      "195/195 [==============================] - 10s 49ms/step - loss: 1.7503e-04 - root_mean_squared_error: 0.0132 - val_loss: 0.0015 - val_root_mean_squared_error: 0.0390 - lr: 9.7175e-04\n",
      "Epoch 131/200\n",
      "195/195 [==============================] - 10s 50ms/step - loss: 1.7423e-04 - root_mean_squared_error: 0.0132 - val_loss: 0.0014 - val_root_mean_squared_error: 0.0377 - lr: 9.7153e-04\n",
      "Epoch 132/200\n",
      "195/195 [==============================] - 10s 50ms/step - loss: 1.7583e-04 - root_mean_squared_error: 0.0133 - val_loss: 0.0011 - val_root_mean_squared_error: 0.0326 - lr: 9.7131e-04\n",
      "Epoch 133/200\n",
      "195/195 [==============================] - 10s 49ms/step - loss: 1.7364e-04 - root_mean_squared_error: 0.0132 - val_loss: 0.0019 - val_root_mean_squared_error: 0.0436 - lr: 9.7110e-04\n",
      "Epoch 134/200\n",
      "195/195 [==============================] - 10s 49ms/step - loss: 1.7427e-04 - root_mean_squared_error: 0.0132 - val_loss: 0.0011 - val_root_mean_squared_error: 0.0329 - lr: 9.7088e-04\n",
      "Epoch 135/200\n",
      "195/195 [==============================] - 10s 50ms/step - loss: 1.7585e-04 - root_mean_squared_error: 0.0133 - val_loss: 0.0014 - val_root_mean_squared_error: 0.0380 - lr: 9.7067e-04\n",
      "Epoch 136/200\n",
      "195/195 [==============================] - 10s 50ms/step - loss: 1.7348e-04 - root_mean_squared_error: 0.0132 - val_loss: 0.0013 - val_root_mean_squared_error: 0.0360 - lr: 9.7045e-04\n",
      "Epoch 137/200\n",
      "195/195 [==============================] - 10s 50ms/step - loss: 1.7383e-04 - root_mean_squared_error: 0.0132 - val_loss: 0.0012 - val_root_mean_squared_error: 0.0346 - lr: 9.7024e-04\n",
      "Epoch 138/200\n",
      "195/195 [==============================] - 10s 49ms/step - loss: 1.7418e-04 - root_mean_squared_error: 0.0132 - val_loss: 0.0016 - val_root_mean_squared_error: 0.0403 - lr: 9.7002e-04\n",
      "Epoch 139/200\n",
      "195/195 [==============================] - 10s 49ms/step - loss: 1.7422e-04 - root_mean_squared_error: 0.0132 - val_loss: 0.0012 - val_root_mean_squared_error: 0.0342 - lr: 9.6980e-04\n",
      "Epoch 140/200\n",
      "195/195 [==============================] - 10s 50ms/step - loss: 1.7438e-04 - root_mean_squared_error: 0.0132 - val_loss: 9.1498e-04 - val_root_mean_squared_error: 0.0302 - lr: 9.6959e-04\n",
      "Epoch 141/200\n",
      "195/195 [==============================] - 10s 49ms/step - loss: 1.7391e-04 - root_mean_squared_error: 0.0132 - val_loss: 0.0014 - val_root_mean_squared_error: 0.0371 - lr: 9.6937e-04\n",
      "Epoch 142/200\n",
      "195/195 [==============================] - 10s 49ms/step - loss: 1.7257e-04 - root_mean_squared_error: 0.0131 - val_loss: 0.0014 - val_root_mean_squared_error: 0.0369 - lr: 9.6916e-04\n",
      "Epoch 143/200\n",
      "195/195 [==============================] - 10s 49ms/step - loss: 1.7388e-04 - root_mean_squared_error: 0.0132 - val_loss: 0.0014 - val_root_mean_squared_error: 0.0377 - lr: 9.6894e-04\n",
      "Epoch 144/200\n",
      "195/195 [==============================] - 10s 49ms/step - loss: 1.7166e-04 - root_mean_squared_error: 0.0131 - val_loss: 0.0010 - val_root_mean_squared_error: 0.0319 - lr: 9.6873e-04\n",
      "Epoch 145/200\n",
      "195/195 [==============================] - 10s 50ms/step - loss: 1.7523e-04 - root_mean_squared_error: 0.0132 - val_loss: 9.9477e-04 - val_root_mean_squared_error: 0.0315 - lr: 9.6851e-04\n",
      "Epoch 146/200\n",
      "195/195 [==============================] - 10s 50ms/step - loss: 1.7375e-04 - root_mean_squared_error: 0.0132 - val_loss: 0.0011 - val_root_mean_squared_error: 0.0328 - lr: 9.6830e-04\n",
      "Epoch 147/200\n",
      "195/195 [==============================] - 10s 49ms/step - loss: 1.6929e-04 - root_mean_squared_error: 0.0130 - val_loss: 0.0011 - val_root_mean_squared_error: 0.0332 - lr: 9.6808e-04\n",
      "Epoch 148/200\n",
      "195/195 [==============================] - 10s 49ms/step - loss: 1.7116e-04 - root_mean_squared_error: 0.0131 - val_loss: 0.0012 - val_root_mean_squared_error: 0.0351 - lr: 9.6787e-04\n",
      "Epoch 149/200\n",
      "195/195 [==============================] - 10s 50ms/step - loss: 1.7208e-04 - root_mean_squared_error: 0.0131 - val_loss: 0.0010 - val_root_mean_squared_error: 0.0321 - lr: 9.6765e-04\n",
      "Epoch 150/200\n",
      "195/195 [==============================] - 10s 49ms/step - loss: 1.7039e-04 - root_mean_squared_error: 0.0131 - val_loss: 0.0017 - val_root_mean_squared_error: 0.0411 - lr: 9.6744e-04\n",
      "Epoch 151/200\n",
      "195/195 [==============================] - 10s 50ms/step - loss: 1.7469e-04 - root_mean_squared_error: 0.0132 - val_loss: 0.0019 - val_root_mean_squared_error: 0.0432 - lr: 9.6722e-04\n",
      "Epoch 152/200\n",
      "195/195 [==============================] - 10s 50ms/step - loss: 1.7141e-04 - root_mean_squared_error: 0.0131 - val_loss: 0.0018 - val_root_mean_squared_error: 0.0427 - lr: 9.6701e-04\n",
      "Epoch 153/200\n",
      "195/195 [==============================] - 10s 50ms/step - loss: 1.7124e-04 - root_mean_squared_error: 0.0131 - val_loss: 0.0017 - val_root_mean_squared_error: 0.0413 - lr: 9.6679e-04\n",
      "Epoch 154/200\n",
      "195/195 [==============================] - 10s 50ms/step - loss: 1.7193e-04 - root_mean_squared_error: 0.0131 - val_loss: 0.0012 - val_root_mean_squared_error: 0.0342 - lr: 9.6658e-04\n",
      "Epoch 155/200\n",
      "195/195 [==============================] - 10s 50ms/step - loss: 1.6856e-04 - root_mean_squared_error: 0.0130 - val_loss: 0.0015 - val_root_mean_squared_error: 0.0388 - lr: 9.6636e-04\n",
      "Epoch 156/200\n",
      "195/195 [==============================] - 10s 50ms/step - loss: 1.7161e-04 - root_mean_squared_error: 0.0131 - val_loss: 0.0013 - val_root_mean_squared_error: 0.0364 - lr: 9.6615e-04\n",
      "Epoch 157/200\n",
      "195/195 [==============================] - 10s 50ms/step - loss: 1.6992e-04 - root_mean_squared_error: 0.0130 - val_loss: 0.0014 - val_root_mean_squared_error: 0.0371 - lr: 9.6593e-04\n",
      "Epoch 158/200\n",
      "195/195 [==============================] - 10s 50ms/step - loss: 1.7048e-04 - root_mean_squared_error: 0.0131 - val_loss: 0.0023 - val_root_mean_squared_error: 0.0476 - lr: 9.6572e-04\n",
      "Epoch 159/200\n",
      "195/195 [==============================] - 10s 50ms/step - loss: 1.7255e-04 - root_mean_squared_error: 0.0131 - val_loss: 0.0014 - val_root_mean_squared_error: 0.0378 - lr: 9.6551e-04\n",
      "Epoch 160/200\n",
      "195/195 [==============================] - 10s 50ms/step - loss: 1.7293e-04 - root_mean_squared_error: 0.0132 - val_loss: 8.9722e-04 - val_root_mean_squared_error: 0.0300 - lr: 9.6529e-04\n",
      "Epoch 161/200\n",
      "195/195 [==============================] - 10s 50ms/step - loss: 1.7286e-04 - root_mean_squared_error: 0.0131 - val_loss: 0.0020 - val_root_mean_squared_error: 0.0453 - lr: 9.6508e-04\n",
      "Epoch 162/200\n",
      "195/195 [==============================] - 10s 50ms/step - loss: 1.7211e-04 - root_mean_squared_error: 0.0131 - val_loss: 0.0010 - val_root_mean_squared_error: 0.0320 - lr: 9.6486e-04\n",
      "Epoch 163/200\n",
      "195/195 [==============================] - 10s 50ms/step - loss: 1.7318e-04 - root_mean_squared_error: 0.0132 - val_loss: 0.0011 - val_root_mean_squared_error: 0.0328 - lr: 9.6465e-04\n",
      "Epoch 164/200\n",
      "195/195 [==============================] - 10s 50ms/step - loss: 1.6885e-04 - root_mean_squared_error: 0.0130 - val_loss: 0.0014 - val_root_mean_squared_error: 0.0373 - lr: 9.6443e-04\n",
      "Epoch 165/200\n",
      "195/195 [==============================] - 10s 50ms/step - loss: 1.7107e-04 - root_mean_squared_error: 0.0131 - val_loss: 0.0014 - val_root_mean_squared_error: 0.0377 - lr: 9.6422e-04\n",
      "Epoch 166/200\n",
      "195/195 [==============================] - 10s 50ms/step - loss: 1.7180e-04 - root_mean_squared_error: 0.0131 - val_loss: 0.0012 - val_root_mean_squared_error: 0.0347 - lr: 9.6400e-04\n",
      "Epoch 167/200\n",
      "195/195 [==============================] - 10s 49ms/step - loss: 1.6964e-04 - root_mean_squared_error: 0.0130 - val_loss: 0.0040 - val_root_mean_squared_error: 0.0633 - lr: 9.6379e-04\n",
      "Epoch 168/200\n",
      "195/195 [==============================] - 10s 49ms/step - loss: 1.6965e-04 - root_mean_squared_error: 0.0130 - val_loss: 0.0014 - val_root_mean_squared_error: 0.0373 - lr: 9.6358e-04\n",
      "Epoch 169/200\n",
      "195/195 [==============================] - 10s 49ms/step - loss: 1.6931e-04 - root_mean_squared_error: 0.0130 - val_loss: 0.0012 - val_root_mean_squared_error: 0.0352 - lr: 9.6336e-04\n",
      "Epoch 170/200\n",
      "195/195 [==============================] - 10s 50ms/step - loss: 1.7008e-04 - root_mean_squared_error: 0.0130 - val_loss: 0.0034 - val_root_mean_squared_error: 0.0586 - lr: 9.6315e-04\n",
      "Epoch 171/200\n",
      "195/195 [==============================] - 10s 50ms/step - loss: 1.6730e-04 - root_mean_squared_error: 0.0129 - val_loss: 0.0024 - val_root_mean_squared_error: 0.0487 - lr: 9.6293e-04\n",
      "Epoch 172/200\n",
      "195/195 [==============================] - 10s 50ms/step - loss: 1.7129e-04 - root_mean_squared_error: 0.0131 - val_loss: 0.0012 - val_root_mean_squared_error: 0.0353 - lr: 9.6272e-04\n",
      "Epoch 173/200\n",
      "195/195 [==============================] - 10s 50ms/step - loss: 1.6921e-04 - root_mean_squared_error: 0.0130 - val_loss: 0.0019 - val_root_mean_squared_error: 0.0432 - lr: 9.6251e-04\n",
      "Epoch 174/200\n",
      "195/195 [==============================] - 10s 49ms/step - loss: 1.6859e-04 - root_mean_squared_error: 0.0130 - val_loss: 0.0012 - val_root_mean_squared_error: 0.0340 - lr: 9.6229e-04\n",
      "Epoch 175/200\n",
      "195/195 [==============================] - 10s 49ms/step - loss: 1.6605e-04 - root_mean_squared_error: 0.0129 - val_loss: 0.0037 - val_root_mean_squared_error: 0.0607 - lr: 9.6208e-04\n",
      "Epoch 176/200\n",
      "195/195 [==============================] - 10s 50ms/step - loss: 1.6624e-04 - root_mean_squared_error: 0.0129 - val_loss: 0.0014 - val_root_mean_squared_error: 0.0377 - lr: 9.6187e-04\n",
      "Epoch 177/200\n",
      "195/195 [==============================] - 10s 49ms/step - loss: 1.6586e-04 - root_mean_squared_error: 0.0129 - val_loss: 0.0011 - val_root_mean_squared_error: 0.0337 - lr: 9.6165e-04\n",
      "Epoch 178/200\n",
      "195/195 [==============================] - 10s 49ms/step - loss: 1.6916e-04 - root_mean_squared_error: 0.0130 - val_loss: 0.0027 - val_root_mean_squared_error: 0.0517 - lr: 9.6144e-04\n",
      "Epoch 179/200\n",
      "195/195 [==============================] - 10s 49ms/step - loss: 1.6678e-04 - root_mean_squared_error: 0.0129 - val_loss: 0.0025 - val_root_mean_squared_error: 0.0502 - lr: 9.6122e-04\n",
      "Epoch 180/200\n",
      "195/195 [==============================] - 10s 49ms/step - loss: 1.6913e-04 - root_mean_squared_error: 0.0130 - val_loss: 0.0016 - val_root_mean_squared_error: 0.0404 - lr: 9.6101e-04\n",
      "Epoch 181/200\n",
      "195/195 [==============================] - 10s 49ms/step - loss: 1.6897e-04 - root_mean_squared_error: 0.0130 - val_loss: 9.3475e-04 - val_root_mean_squared_error: 0.0306 - lr: 9.6080e-04\n",
      "Epoch 182/200\n",
      "195/195 [==============================] - 10s 49ms/step - loss: 1.6632e-04 - root_mean_squared_error: 0.0129 - val_loss: 0.0023 - val_root_mean_squared_error: 0.0481 - lr: 9.6058e-04\n",
      "Epoch 183/200\n",
      "195/195 [==============================] - 10s 49ms/step - loss: 1.6961e-04 - root_mean_squared_error: 0.0130 - val_loss: 0.0016 - val_root_mean_squared_error: 0.0401 - lr: 9.6037e-04\n",
      "Epoch 184/200\n",
      "195/195 [==============================] - 10s 49ms/step - loss: 1.6630e-04 - root_mean_squared_error: 0.0129 - val_loss: 0.0022 - val_root_mean_squared_error: 0.0464 - lr: 9.6016e-04\n",
      "Epoch 185/200\n",
      "195/195 [==============================] - 10s 49ms/step - loss: 1.7144e-04 - root_mean_squared_error: 0.0131 - val_loss: 0.0016 - val_root_mean_squared_error: 0.0404 - lr: 9.5994e-04\n",
      "Epoch 186/200\n",
      "195/195 [==============================] - 10s 49ms/step - loss: 1.6557e-04 - root_mean_squared_error: 0.0129 - val_loss: 0.0015 - val_root_mean_squared_error: 0.0385 - lr: 9.5973e-04\n",
      "Epoch 187/200\n",
      "195/195 [==============================] - 10s 49ms/step - loss: 1.7014e-04 - root_mean_squared_error: 0.0130 - val_loss: 0.0047 - val_root_mean_squared_error: 0.0684 - lr: 9.5952e-04\n",
      "Epoch 188/200\n",
      "195/195 [==============================] - 10s 49ms/step - loss: 1.6498e-04 - root_mean_squared_error: 0.0128 - val_loss: 0.0017 - val_root_mean_squared_error: 0.0416 - lr: 9.5930e-04\n",
      "Epoch 189/200\n",
      "195/195 [==============================] - 10s 49ms/step - loss: 2.3548e-04 - root_mean_squared_error: 0.0153 - val_loss: 0.0031 - val_root_mean_squared_error: 0.0558 - lr: 9.5909e-04\n",
      "Epoch 190/200\n",
      "195/195 [==============================] - 10s 49ms/step - loss: 1.8599e-04 - root_mean_squared_error: 0.0136 - val_loss: 0.0010 - val_root_mean_squared_error: 0.0323 - lr: 9.5888e-04\n",
      "Epoch 191/200\n",
      "195/195 [==============================] - 10s 49ms/step - loss: 1.7577e-04 - root_mean_squared_error: 0.0133 - val_loss: 0.0011 - val_root_mean_squared_error: 0.0334 - lr: 9.5867e-04\n",
      "Epoch 192/200\n",
      "195/195 [==============================] - 10s 50ms/step - loss: 1.7429e-04 - root_mean_squared_error: 0.0132 - val_loss: 0.0041 - val_root_mean_squared_error: 0.0638 - lr: 9.5845e-04\n",
      "Epoch 193/200\n",
      "195/195 [==============================] - 10s 50ms/step - loss: 1.7147e-04 - root_mean_squared_error: 0.0131 - val_loss: 0.0032 - val_root_mean_squared_error: 0.0569 - lr: 9.5824e-04\n",
      "Epoch 194/200\n",
      "195/195 [==============================] - 10s 50ms/step - loss: 1.6961e-04 - root_mean_squared_error: 0.0130 - val_loss: 0.0012 - val_root_mean_squared_error: 0.0341 - lr: 9.5803e-04\n",
      "Epoch 195/200\n",
      "195/195 [==============================] - 10s 50ms/step - loss: 1.6828e-04 - root_mean_squared_error: 0.0130 - val_loss: 0.0024 - val_root_mean_squared_error: 0.0494 - lr: 9.5781e-04\n",
      "Epoch 196/200\n",
      "195/195 [==============================] - 10s 49ms/step - loss: 1.6731e-04 - root_mean_squared_error: 0.0129 - val_loss: 0.0036 - val_root_mean_squared_error: 0.0601 - lr: 9.5760e-04\n",
      "Epoch 197/200\n",
      "195/195 [==============================] - 10s 49ms/step - loss: 1.6854e-04 - root_mean_squared_error: 0.0130 - val_loss: 0.0026 - val_root_mean_squared_error: 0.0512 - lr: 9.5739e-04\n",
      "Epoch 198/200\n",
      "195/195 [==============================] - 10s 50ms/step - loss: 1.6509e-04 - root_mean_squared_error: 0.0128 - val_loss: 9.0698e-04 - val_root_mean_squared_error: 0.0301 - lr: 9.5718e-04\n",
      "Epoch 199/200\n",
      "195/195 [==============================] - 10s 49ms/step - loss: 1.6628e-04 - root_mean_squared_error: 0.0129 - val_loss: 0.0022 - val_root_mean_squared_error: 0.0467 - lr: 9.5696e-04\n",
      "Epoch 200/200\n",
      "195/195 [==============================] - 10s 50ms/step - loss: 1.6735e-04 - root_mean_squared_error: 0.0129 - val_loss: 0.0013 - val_root_mean_squared_error: 0.0367 - lr: 9.5675e-04\n"
     ]
    },
    {
     "data": {
      "image/png": "[encoded data removed]",
      "text/plain": [
       "<Figure size 432x288 with 1 Axes>"
      ]
     },
     "metadata": {},
     "output_type": "display_data"
    }
   ],
   "source": [
    "EPOCHS = 200# number of epocs per trial\n",
    "loss = tf.keras.losses.MeanSquaredError()\n",
    "metric = [tf.keras.metrics.RootMeanSquaredError()]\n",
    "early_stopping = tf.keras.callbacks.EarlyStopping(patience=200)\n",
    "model_checkpoint = tf.keras.callbacks.ModelCheckpoint(\n",
    "                   'multivariate_lstm.h5', monitor=('val_loss'), save_best_only=True)\n",
    "buffer_size = 1000\n",
    "# Clear clutter from previous session graphs.\n",
    "keras.backend.clear_session()\n",
    "# Generate our trial model.\n",
    "model = create_lstm_model(X_train)\n",
    "\n",
    "initial_learning_rate = 0.003\n",
    "decay = initial_learning_rate / EPOCHS\n",
    "def lr_time_based_decay(epoch, lr):\n",
    "    return lr * 1 / (1 + decay * EPOCHS)\n",
    "\n",
    "scheduler = tf.keras.optimizers.schedules.ExponentialDecay(1e-3, 400*((len(X_train)*0.8)/batch_size), 1e-6)\n",
    "#learning rate scheduler\n",
    "# def scheduler(epoch, lr):\n",
    "#   if epoch < 10:\n",
    "#     return lr\n",
    "#   else:\n",
    "#     return lr * tf.math.exp(-0.1)\n",
    "\n",
    "lr = tf.keras.callbacks.LearningRateScheduler(scheduler, verbose=0)\n",
    "\n",
    "# Fit the model on the training data.\n",
    "history = model.fit(\n",
    "    X_train,\n",
    "    y_train,\n",
    "    batch_size=batch_size,\n",
    "    callbacks=[model_checkpoint, early_stopping, lr],\n",
    "    epochs=EPOCHS,\n",
    "    validation_data=(X_val,y_val),\n",
    "    verbose=1,\n",
    ")\n",
    "model = tf.keras.models.load_model('multivariate_lstm.h5')\n",
    "# summarize history for loss\n",
    "plt.plot(history.history['loss'])\n",
    "plt.plot(history.history['val_loss'])\n",
    "plt.title('model loss')\n",
    "plt.ylabel('loss')\n",
    "plt.xlabel('epoch')\n",
    "plt.legend(['train', 'test'], loc='upper right')\n",
    "plt.savefig(\"drive/MyDrive/project3/plot/epochs.png\")\n",
    "plt.show()"
   ]
  },
  {
   "cell_type": "markdown",
   "metadata": {
    "id": "BUeHHKpg7JeC"
   },
   "source": [
    "**TEST PART**"
   ]
  },
  {
   "cell_type": "code",
   "execution_count": 15,
   "metadata": {
    "executionInfo": {
     "elapsed": 481,
     "status": "ok",
     "timestamp": 1651654210257,
     "user": {
      "displayName": "eli tedde",
      "userId": "06887910645072935678"
     },
     "user_tz": -120
    },
    "id": "O5Zv5qyT7rG1"
   },
   "outputs": [],
   "source": [
    "def prediction():\n",
    "  predictions = []\n",
    "  first_batch = window.reshape(1, window.shape[0], window.shape[1])\n",
    "  current_batch = first_batch\n",
    "  predictions = []\n",
    "  for i in range(9):\n",
    "    current_pred = model.predict(current_batch)\n",
    "    if ( i is not 0):\n",
    "      predictions.append(current_pred)\n",
    "    current_batch_rmv_first = current_batch[:,1:,:]\n",
    "    if(i < test_x.shape[0]):\n",
    "      test_x[i][-1] = current_pred\n",
    "    if(i + 1 < test_x.shape[0] and ALTERED is False):\n",
    "      test_x[i+1][-6] = current_pred\n",
    "    if(i + 2 < test_x.shape[0] and not ALTERED is False):\n",
    "      test_x[i+2][-5] = current_pred\n",
    "    if(i < test_x.shape[0]):\n",
    "      current_batch = np.append(current_batch_rmv_first, [[test_x[i]]], axis = 1)\n",
    "  return predictions\n",
    "\n",
    "def error(predictions, window_y):\n",
    "  y_window_inv = y_scaler.inverse_transform(window_y.reshape(-1, 1))\n",
    "  pred_inv = y_scaler.inverse_transform(np.array(predictions).reshape(-1, 1))\n",
    "  rmse = np.sqrt(mean_squared_error(real_inv, pred_inv))\n",
    "  print('Test RMSE: %.3f' % rmse)\n",
    "  print(\"r2: \",np.sqrt(sklearn.metrics.r2_score(real_inv, pred_inv)))\n",
    "  print(f'MAE is : {sklearn.metrics.mean_absolute_error(real_inv, pred_inv)}')\n",
    "  return y_window_inv, pred_inv\n",
    "\n",
    "\n",
    "def plot(y_window_inv,pred_inv, real_inv, i):\n",
    "  pred = np.concatenate((y_window_inv.reshape(y_window_inv.shape[0],1), pred_inv))\n",
    "  real = np.concatenate((y_window_inv.reshape(y_window_inv.shape[0],1), real_inv))\n",
    "  aa=[x for x in range(26)]\n",
    "  figure(figsize=(8, 6), dpi=80)\n",
    "  plt.plot(aa, pred[100:126], marker='.', label=\"prediction\")\n",
    "  plt.plot(aa, real[100:126], 'r', label=\"actual\" )\n",
    "  plt.ylabel('Imbalance', size=15)\n",
    "  plt.xlabel('Time step', size=15)\n",
    "  plt.legend(fontsize=15)\n",
    "  if ALTERED is True:\n",
    "    plt.savefig(\"drive/MyDrive/project3/plot2/altered/test\"+str(i)+\".png\")\n",
    "  else:\n",
    "    plt.savefig(\"drive/MyDrive/project3/plot2/normal/test\"+str(i)+\".png\")\n",
    "  plt.show()"
   ]
  },
  {
   "cell_type": "markdown",
   "metadata": {
    "id": "B7ZZfAXSONbb"
   },
   "source": [
    "**TEST 1**"
   ]
  },
  {
   "cell_type": "code",
   "execution_count": 16,
   "metadata": {
    "colab": {
     "base_uri": "https://localhost:8080/",
     "height": 487
    },
    "executionInfo": {
     "elapsed": 3541,
     "status": "ok",
     "timestamp": 1651654216439,
     "user": {
      "displayName": "eli tedde",
      "userId": "06887910645072935678"
     },
     "user_tz": -120
    },
    "id": "p0z-y4fPDaz8",
    "outputId": "887c6a5f-63ce-48b4-8d0b-78c9f830c47a"
   },
   "outputs": [
    {
     "name": "stdout",
     "output_type": "stream",
     "text": [
      "Test RMSE: 186.505\n",
      "r2:  nan\n",
      "MAE is : 167.87551186006493\n"
     ]
    },
    {
     "data": {
      "image/png": "[encoded data removed]",
      "text/plain": [
       "<Figure size 640x480 with 1 Axes>"
      ]
     },
     "metadata": {},
     "output_type": "display_data"
    }
   ],
   "source": [
    "window = window\n",
    "window_y = window_y\n",
    "test_x = test_X[0:8]\n",
    "real_inv = y_scaler.inverse_transform(test_y[:8].reshape(-1, 1))\n",
    "predictions = prediction()\n",
    "y_window_inv, pred_inv = error(predictions, window_y)\n",
    "plot(y_window_inv,pred_inv, real_inv, 1)"
   ]
  },
  {
   "cell_type": "code",
   "execution_count": 17,
   "metadata": {
    "colab": {
     "base_uri": "https://localhost:8080/",
     "height": 487
    },
    "executionInfo": {
     "elapsed": 1847,
     "status": "ok",
     "timestamp": 1651654221662,
     "user": {
      "displayName": "eli tedde",
      "userId": "06887910645072935678"
     },
     "user_tz": -120
    },
    "id": "MZxyVVp06D6k",
    "outputId": "0735bde1-8de2-43b7-f540-67643fe54db7"
   },
   "outputs": [
    {
     "name": "stdout",
     "output_type": "stream",
     "text": [
      "Test RMSE: 65.327\n",
      "r2:  nan\n",
      "MAE is : 61.71739770175222\n"
     ]
    },
    {
     "data": {
      "image/png": "[encoded data removed]",
      "text/plain": [
       "<Figure size 640x480 with 1 Axes>"
      ]
     },
     "metadata": {},
     "output_type": "display_data"
    }
   ],
   "source": [
    "window = np.concatenate((window[10:120], test_X[0:10]))\n",
    "window_y = np.concatenate((window_y[10:120], test_y[0:10]))\n",
    "test_x = test_X[10:18]\n",
    "real_inv = y_scaler.inverse_transform(test_y[10:18].reshape(-1, 1))\n",
    "predictions = prediction()\n",
    "y_window_inv, pred_inv = error(predictions, window_y)\n",
    "plot(y_window_inv,pred_inv, real_inv, 2)"
   ]
  },
  {
   "cell_type": "markdown",
   "metadata": {
    "id": "Y_Ic1wbgOSJT"
   },
   "source": [
    "**TEST 3**"
   ]
  },
  {
   "cell_type": "code",
   "execution_count": 18,
   "metadata": {
    "colab": {
     "base_uri": "https://localhost:8080/",
     "height": 487
    },
    "executionInfo": {
     "elapsed": 2153,
     "status": "ok",
     "timestamp": 1651654227977,
     "user": {
      "displayName": "eli tedde",
      "userId": "06887910645072935678"
     },
     "user_tz": -120
    },
    "id": "TEyVn8PI8BS9",
    "outputId": "96fb2abf-36c2-46ec-ab0e-34f1551723bf"
   },
   "outputs": [
    {
     "name": "stdout",
     "output_type": "stream",
     "text": [
      "Test RMSE: 47.841\n",
      "r2:  nan\n",
      "MAE is : 37.553486512709725\n"
     ]
    },
    {
     "data": {
      "image/png": "[encoded data removed]",
      "text/plain": [
       "<Figure size 640x480 with 1 Axes>"
      ]
     },
     "metadata": {},
     "output_type": "display_data"
    }
   ],
   "source": [
    "window = np.concatenate((window[10:120], test_X[10:20]))\n",
    "window_y = np.concatenate((window_y[10:120], test_y[10:20]))\n",
    "test_x = test_X[20:28]\n",
    "real_inv = y_scaler.inverse_transform(test_y[20:28].reshape(-1, 1))\n",
    "predictions = prediction()\n",
    "y_window_inv, pred_inv = error(predictions, window_y)\n",
    "plot(y_window_inv,pred_inv, real_inv, 3)"
   ]
  },
  {
   "cell_type": "markdown",
   "metadata": {
    "id": "lsvz3Qa-OVo2"
   },
   "source": [
    "**TEST 5**"
   ]
  },
  {
   "cell_type": "code",
   "execution_count": 20,
   "metadata": {
    "colab": {
     "base_uri": "https://localhost:8080/",
     "height": 487
    },
    "executionInfo": {
     "elapsed": 2128,
     "status": "ok",
     "timestamp": 1651654243774,
     "user": {
      "displayName": "eli tedde",
      "userId": "06887910645072935678"
     },
     "user_tz": -120
    },
    "id": "NMxx6co68Kxz",
    "outputId": "f2fb9307-1741-4ca1-c355-37e9f18981ce"
   },
   "outputs": [
    {
     "name": "stdout",
     "output_type": "stream",
     "text": [
      "Test RMSE: 54.609\n",
      "r2:  nan\n",
      "MAE is : 51.26550597766577\n"
     ]
    },
    {
     "data": {
      "image/png": "[encoded data removed]",
      "text/plain": [
       "<Figure size 640x480 with 1 Axes>"
      ]
     },
     "metadata": {},
     "output_type": "display_data"
    }
   ],
   "source": [
    "window = np.concatenate((window[10:120], test_X[30:40]))\n",
    "window_y = np.concatenate((window_y[10:120], test_y[30:40]))\n",
    "test_x = test_X[40:48]\n",
    "real_inv = y_scaler.inverse_transform(test_y[40:48].reshape(-1, 1))\n",
    "predictions = prediction()\n",
    "y_window_inv, pred_inv = error(predictions, window_y)\n",
    "plot(y_window_inv,pred_inv, real_inv, 5)"
   ]
  },
  {
   "cell_type": "code",
   "execution_count": null,
   "metadata": {
    "colab": {
     "base_uri": "https://localhost:8080/"
    },
    "executionInfo": {
     "elapsed": 1062,
     "status": "ok",
     "timestamp": 1651492550774,
     "user": {
      "displayName": "eli tedde",
      "userId": "06887910645072935678"
     },
     "user_tz": -120
    },
    "id": "kgMkN5FX7XGz",
    "outputId": "76cc0311-b349-4ec3-de2b-d01369d709be"
   },
   "outputs": [
    {
     "name": "stdout",
     "output_type": "stream",
     "text": [
      "Model: \"sequential\"\n",
      "_________________________________________________________________\n",
      " Layer (type)                Output Shape              Param #   \n",
      "=================================================================\n",
      " lstm (LSTM)                 (None, 120, 128)          72704     \n",
      "                                                                 \n",
      " leaky_re_lu (LeakyReLU)     (None, 120, 128)          0         \n",
      "                                                                 \n",
      " lstm_1 (LSTM)               (None, 120, 128)          131584    \n",
      "                                                                 \n",
      " leaky_re_lu_1 (LeakyReLU)   (None, 120, 128)          0         \n",
      "                                                                 \n",
      " dropout (Dropout)           (None, 120, 128)          0         \n",
      "                                                                 \n",
      " lstm_2 (LSTM)               (None, 64)                49408     \n",
      "                                                                 \n",
      " dropout_1 (Dropout)         (None, 64)                0         \n",
      "                                                                 \n",
      " dense (Dense)               (None, 1)                 65        \n",
      "                                                                 \n",
      "=================================================================\n",
      "Total params: 253,761\n",
      "Trainable params: 253,761\n",
      "Non-trainable params: 0\n",
      "_________________________________________________________________\n"
     ]
    }
   ],
   "source": [
    "#standard model\n",
    "# model = tf.keras.models.load_model('drive/MyDrive/project3/0205-3.h5')#without imbalance12 and struct (very good)\n",
    "# model = tf.keras.models.load_model('drive/MyDrive/project3/0305.h5')#without imbalance12 and struct (very good)\n",
    "model.summary()"
   ]
  },
  {
   "cell_type": "code",
   "execution_count": null,
   "metadata": {
    "id": "XqTQs8XJBqtW"
   },
   "outputs": [],
   "source": [
    "#model with altered\n",
    "# model = tf.keras.models.load_model('drive/MyDrive/project3/model_altered.h5') #without structural imbalance\n",
    "model = tf.keras.models.load_model('drive/MyDrive/project3/model_altered2.h5') #with structural imbalance"
   ]
  }
 ],
 "metadata": {
  "accelerator": "GPU",
  "colab": {
   "authorship_tag": "ABX9TyPVXJN1OSygMVGA/9TariQF",
   "collapsed_sections": [],
   "machine_shape": "hm",
   "mount_file_id": "1hz1wUfKc7Wr1ZdNdeYYcddO7uexy66tf",
   "name": "model.ipynb",
   "provenance": []
  },
  "kernelspec": {
   "display_name": "Python 3",
   "language": "python",
   "name": "python3"
  },
  "language_info": {
   "codemirror_mode": {
    "name": "ipython",
    "version": 3
   },
   "file_extension": ".py",
   "mimetype": "text/x-python",
   "name": "python",
   "nbconvert_exporter": "python",
   "pygments_lexer": "ipython3",
   "version": "3.8.8"
  }
 },
 "nbformat": 4,
 "nbformat_minor": 1
}
